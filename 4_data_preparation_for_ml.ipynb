{
 "cells": [
  {
   "cell_type": "code",
   "execution_count": 1,
   "metadata": {},
   "outputs": [
    {
     "name": "stderr",
     "output_type": "stream",
     "text": [
      "[nltk_data] Downloading package stopwords to\n",
      "[nltk_data]     C:\\Users\\monic\\AppData\\Roaming\\nltk_data...\n",
      "[nltk_data]   Package stopwords is already up-to-date!\n"
     ]
    }
   ],
   "source": [
    "# All imports\n",
    "import pandas as pd\n",
    "pd.options.mode.chained_assignment = None  # default='warn'\n",
    "import nltk\n",
    "from nltk.corpus import stopwords\n",
    "import re\n",
    "nltk.download('stopwords')\n",
    "import numpy as np\n",
    "import matplotlib.pyplot as plt\n",
    "import urllib.request\n",
    "import joblib\n",
    "import requests\n",
    "from PIL import Image"
   ]
  },
  {
   "cell_type": "code",
   "execution_count": 2,
   "metadata": {},
   "outputs": [],
   "source": [
    "# Load previously collected data\n",
    "df = pd.read_csv(\"DataCleansed.csv\",delimiter=\"|\", na_filter = False) #to not treat N/A as Nan\n",
    "df_url = pd.read_csv(\"ImageURLs.csv\",delimiter=\"|\")"
   ]
  },
  {
   "cell_type": "code",
   "execution_count": 4,
   "metadata": {},
   "outputs": [
    {
     "data": {
      "text/html": [
       "<div>\n",
       "<style scoped>\n",
       "    .dataframe tbody tr th:only-of-type {\n",
       "        vertical-align: middle;\n",
       "    }\n",
       "\n",
       "    .dataframe tbody tr th {\n",
       "        vertical-align: top;\n",
       "    }\n",
       "\n",
       "    .dataframe thead th {\n",
       "        text-align: right;\n",
       "    }\n",
       "</style>\n",
       "<table border=\"1\" class=\"dataframe\">\n",
       "  <thead>\n",
       "    <tr style=\"text-align: right;\">\n",
       "      <th></th>\n",
       "      <th>Color</th>\n",
       "      <th>Subtype</th>\n",
       "      <th>Text</th>\n",
       "      <th>Type</th>\n",
       "      <th>Loyalty</th>\n",
       "      <th>Power</th>\n",
       "      <th>Toughness</th>\n",
       "      <th>Keyword</th>\n",
       "      <th>Name</th>\n",
       "      <th>ManaValue</th>\n",
       "    </tr>\n",
       "  </thead>\n",
       "  <tbody>\n",
       "    <tr>\n",
       "      <th>0</th>\n",
       "      <td>['White']</td>\n",
       "      <td>['Plains']</td>\n",
       "      <td>({T}: Add {W}.)</td>\n",
       "      <td>['Land']</td>\n",
       "      <td>N/A</td>\n",
       "      <td>N/A</td>\n",
       "      <td>N/A</td>\n",
       "      <td>['N/A']</td>\n",
       "      <td>Plains</td>\n",
       "      <td>0.0</td>\n",
       "    </tr>\n",
       "    <tr>\n",
       "      <th>1</th>\n",
       "      <td>['Blue']</td>\n",
       "      <td>['Island']</td>\n",
       "      <td>({T}: Add {U}.)</td>\n",
       "      <td>['Land']</td>\n",
       "      <td>N/A</td>\n",
       "      <td>N/A</td>\n",
       "      <td>N/A</td>\n",
       "      <td>['N/A']</td>\n",
       "      <td>Island</td>\n",
       "      <td>0.0</td>\n",
       "    </tr>\n",
       "    <tr>\n",
       "      <th>2</th>\n",
       "      <td>['Black']</td>\n",
       "      <td>['Swamp']</td>\n",
       "      <td>({T}: Add {B}.)</td>\n",
       "      <td>['Land']</td>\n",
       "      <td>N/A</td>\n",
       "      <td>N/A</td>\n",
       "      <td>N/A</td>\n",
       "      <td>['N/A']</td>\n",
       "      <td>Swamp</td>\n",
       "      <td>0.0</td>\n",
       "    </tr>\n",
       "    <tr>\n",
       "      <th>3</th>\n",
       "      <td>['Red']</td>\n",
       "      <td>['Mountain']</td>\n",
       "      <td>({T}: Add {R}.)</td>\n",
       "      <td>['Land']</td>\n",
       "      <td>N/A</td>\n",
       "      <td>N/A</td>\n",
       "      <td>N/A</td>\n",
       "      <td>['N/A']</td>\n",
       "      <td>Mountain</td>\n",
       "      <td>0.0</td>\n",
       "    </tr>\n",
       "    <tr>\n",
       "      <th>4</th>\n",
       "      <td>['Green']</td>\n",
       "      <td>['Forest']</td>\n",
       "      <td>({T}: Add {G}.)</td>\n",
       "      <td>['Land']</td>\n",
       "      <td>N/A</td>\n",
       "      <td>N/A</td>\n",
       "      <td>N/A</td>\n",
       "      <td>['N/A']</td>\n",
       "      <td>Forest</td>\n",
       "      <td>0.0</td>\n",
       "    </tr>\n",
       "  </tbody>\n",
       "</table>\n",
       "</div>"
      ],
      "text/plain": [
       "       Color       Subtype             Text      Type Loyalty Power Toughness  \\\n",
       "0  ['White']    ['Plains']  ({T}: Add {W}.)  ['Land']     N/A   N/A       N/A   \n",
       "1   ['Blue']    ['Island']  ({T}: Add {U}.)  ['Land']     N/A   N/A       N/A   \n",
       "2  ['Black']     ['Swamp']  ({T}: Add {B}.)  ['Land']     N/A   N/A       N/A   \n",
       "3    ['Red']  ['Mountain']  ({T}: Add {R}.)  ['Land']     N/A   N/A       N/A   \n",
       "4  ['Green']    ['Forest']  ({T}: Add {G}.)  ['Land']     N/A   N/A       N/A   \n",
       "\n",
       "   Keyword      Name  ManaValue  \n",
       "0  ['N/A']    Plains        0.0  \n",
       "1  ['N/A']    Island        0.0  \n",
       "2  ['N/A']     Swamp        0.0  \n",
       "3  ['N/A']  Mountain        0.0  \n",
       "4  ['N/A']    Forest        0.0  "
      ]
     },
     "execution_count": 4,
     "metadata": {},
     "output_type": "execute_result"
    }
   ],
   "source": [
    "df.head()"
   ]
  },
  {
   "cell_type": "code",
   "execution_count": 5,
   "metadata": {},
   "outputs": [
    {
     "data": {
      "text/html": [
       "<div>\n",
       "<style scoped>\n",
       "    .dataframe tbody tr th:only-of-type {\n",
       "        vertical-align: middle;\n",
       "    }\n",
       "\n",
       "    .dataframe tbody tr th {\n",
       "        vertical-align: top;\n",
       "    }\n",
       "\n",
       "    .dataframe thead th {\n",
       "        text-align: right;\n",
       "    }\n",
       "</style>\n",
       "<table border=\"1\" class=\"dataframe\">\n",
       "  <thead>\n",
       "    <tr style=\"text-align: right;\">\n",
       "      <th></th>\n",
       "      <th>Name</th>\n",
       "      <th>scryfallId</th>\n",
       "      <th>URL</th>\n",
       "    </tr>\n",
       "  </thead>\n",
       "  <tbody>\n",
       "    <tr>\n",
       "      <th>0</th>\n",
       "      <td>Plains</td>\n",
       "      <td>7ee52536-8cfa-482b-874e-094c0a081894</td>\n",
       "      <td>https://c1.scryfall.com/file/scryfall-cards/la...</td>\n",
       "    </tr>\n",
       "    <tr>\n",
       "      <th>1</th>\n",
       "      <td>Island</td>\n",
       "      <td>161aaceb-d0bb-48c5-8bd4-bff321a94b2e</td>\n",
       "      <td>https://c1.scryfall.com/file/scryfall-cards/la...</td>\n",
       "    </tr>\n",
       "    <tr>\n",
       "      <th>2</th>\n",
       "      <td>Swamp</td>\n",
       "      <td>4df49e68-cadf-4196-a3f4-ae38579edaeb</td>\n",
       "      <td>https://c1.scryfall.com/file/scryfall-cards/la...</td>\n",
       "    </tr>\n",
       "    <tr>\n",
       "      <th>3</th>\n",
       "      <td>Mountain</td>\n",
       "      <td>890037ae-c366-4769-b7f7-7185a1bebca1</td>\n",
       "      <td>https://c1.scryfall.com/file/scryfall-cards/la...</td>\n",
       "    </tr>\n",
       "    <tr>\n",
       "      <th>4</th>\n",
       "      <td>Forest</td>\n",
       "      <td>86dae285-a59c-426c-b6cd-3683abea75a3</td>\n",
       "      <td>https://c1.scryfall.com/file/scryfall-cards/la...</td>\n",
       "    </tr>\n",
       "  </tbody>\n",
       "</table>\n",
       "</div>"
      ],
      "text/plain": [
       "       Name                            scryfallId  \\\n",
       "0    Plains  7ee52536-8cfa-482b-874e-094c0a081894   \n",
       "1    Island  161aaceb-d0bb-48c5-8bd4-bff321a94b2e   \n",
       "2     Swamp  4df49e68-cadf-4196-a3f4-ae38579edaeb   \n",
       "3  Mountain  890037ae-c366-4769-b7f7-7185a1bebca1   \n",
       "4    Forest  86dae285-a59c-426c-b6cd-3683abea75a3   \n",
       "\n",
       "                                                 URL  \n",
       "0  https://c1.scryfall.com/file/scryfall-cards/la...  \n",
       "1  https://c1.scryfall.com/file/scryfall-cards/la...  \n",
       "2  https://c1.scryfall.com/file/scryfall-cards/la...  \n",
       "3  https://c1.scryfall.com/file/scryfall-cards/la...  \n",
       "4  https://c1.scryfall.com/file/scryfall-cards/la...  "
      ]
     },
     "execution_count": 5,
     "metadata": {},
     "output_type": "execute_result"
    }
   ],
   "source": [
    "df_url.head()"
   ]
  },
  {
   "cell_type": "code",
   "execution_count": 6,
   "metadata": {},
   "outputs": [
    {
     "name": "stdout",
     "output_type": "stream",
     "text": [
      "23924 23919\n"
     ]
    }
   ],
   "source": [
    "# We have less picture urls that we have cards\n",
    "print(len(df),len(df_url))"
   ]
  },
  {
   "cell_type": "code",
   "execution_count": 3,
   "metadata": {},
   "outputs": [],
   "source": [
    "# Let's merge both dfs\n",
    "df = pd.merge(df,df_url,on=[\"Name\"])"
   ]
  },
  {
   "cell_type": "code",
   "execution_count": 8,
   "metadata": {},
   "outputs": [
    {
     "data": {
      "text/html": [
       "<div>\n",
       "<style scoped>\n",
       "    .dataframe tbody tr th:only-of-type {\n",
       "        vertical-align: middle;\n",
       "    }\n",
       "\n",
       "    .dataframe tbody tr th {\n",
       "        vertical-align: top;\n",
       "    }\n",
       "\n",
       "    .dataframe thead th {\n",
       "        text-align: right;\n",
       "    }\n",
       "</style>\n",
       "<table border=\"1\" class=\"dataframe\">\n",
       "  <thead>\n",
       "    <tr style=\"text-align: right;\">\n",
       "      <th></th>\n",
       "      <th>Color</th>\n",
       "      <th>Subtype</th>\n",
       "      <th>Text</th>\n",
       "      <th>Type</th>\n",
       "      <th>Loyalty</th>\n",
       "      <th>Power</th>\n",
       "      <th>Toughness</th>\n",
       "      <th>Keyword</th>\n",
       "      <th>Name</th>\n",
       "      <th>ManaValue</th>\n",
       "      <th>scryfallId</th>\n",
       "      <th>URL</th>\n",
       "    </tr>\n",
       "  </thead>\n",
       "  <tbody>\n",
       "    <tr>\n",
       "      <th>0</th>\n",
       "      <td>['White']</td>\n",
       "      <td>['Plains']</td>\n",
       "      <td>({T}: Add {W}.)</td>\n",
       "      <td>['Land']</td>\n",
       "      <td>N/A</td>\n",
       "      <td>N/A</td>\n",
       "      <td>N/A</td>\n",
       "      <td>['N/A']</td>\n",
       "      <td>Plains</td>\n",
       "      <td>0.0</td>\n",
       "      <td>7ee52536-8cfa-482b-874e-094c0a081894</td>\n",
       "      <td>https://c1.scryfall.com/file/scryfall-cards/la...</td>\n",
       "    </tr>\n",
       "    <tr>\n",
       "      <th>1</th>\n",
       "      <td>['Blue']</td>\n",
       "      <td>['Island']</td>\n",
       "      <td>({T}: Add {U}.)</td>\n",
       "      <td>['Land']</td>\n",
       "      <td>N/A</td>\n",
       "      <td>N/A</td>\n",
       "      <td>N/A</td>\n",
       "      <td>['N/A']</td>\n",
       "      <td>Island</td>\n",
       "      <td>0.0</td>\n",
       "      <td>161aaceb-d0bb-48c5-8bd4-bff321a94b2e</td>\n",
       "      <td>https://c1.scryfall.com/file/scryfall-cards/la...</td>\n",
       "    </tr>\n",
       "    <tr>\n",
       "      <th>2</th>\n",
       "      <td>['Black']</td>\n",
       "      <td>['Swamp']</td>\n",
       "      <td>({T}: Add {B}.)</td>\n",
       "      <td>['Land']</td>\n",
       "      <td>N/A</td>\n",
       "      <td>N/A</td>\n",
       "      <td>N/A</td>\n",
       "      <td>['N/A']</td>\n",
       "      <td>Swamp</td>\n",
       "      <td>0.0</td>\n",
       "      <td>4df49e68-cadf-4196-a3f4-ae38579edaeb</td>\n",
       "      <td>https://c1.scryfall.com/file/scryfall-cards/la...</td>\n",
       "    </tr>\n",
       "    <tr>\n",
       "      <th>3</th>\n",
       "      <td>['Red']</td>\n",
       "      <td>['Mountain']</td>\n",
       "      <td>({T}: Add {R}.)</td>\n",
       "      <td>['Land']</td>\n",
       "      <td>N/A</td>\n",
       "      <td>N/A</td>\n",
       "      <td>N/A</td>\n",
       "      <td>['N/A']</td>\n",
       "      <td>Mountain</td>\n",
       "      <td>0.0</td>\n",
       "      <td>890037ae-c366-4769-b7f7-7185a1bebca1</td>\n",
       "      <td>https://c1.scryfall.com/file/scryfall-cards/la...</td>\n",
       "    </tr>\n",
       "    <tr>\n",
       "      <th>4</th>\n",
       "      <td>['Green']</td>\n",
       "      <td>['Forest']</td>\n",
       "      <td>({T}: Add {G}.)</td>\n",
       "      <td>['Land']</td>\n",
       "      <td>N/A</td>\n",
       "      <td>N/A</td>\n",
       "      <td>N/A</td>\n",
       "      <td>['N/A']</td>\n",
       "      <td>Forest</td>\n",
       "      <td>0.0</td>\n",
       "      <td>86dae285-a59c-426c-b6cd-3683abea75a3</td>\n",
       "      <td>https://c1.scryfall.com/file/scryfall-cards/la...</td>\n",
       "    </tr>\n",
       "  </tbody>\n",
       "</table>\n",
       "</div>"
      ],
      "text/plain": [
       "       Color       Subtype             Text      Type Loyalty Power Toughness  \\\n",
       "0  ['White']    ['Plains']  ({T}: Add {W}.)  ['Land']     N/A   N/A       N/A   \n",
       "1   ['Blue']    ['Island']  ({T}: Add {U}.)  ['Land']     N/A   N/A       N/A   \n",
       "2  ['Black']     ['Swamp']  ({T}: Add {B}.)  ['Land']     N/A   N/A       N/A   \n",
       "3    ['Red']  ['Mountain']  ({T}: Add {R}.)  ['Land']     N/A   N/A       N/A   \n",
       "4  ['Green']    ['Forest']  ({T}: Add {G}.)  ['Land']     N/A   N/A       N/A   \n",
       "\n",
       "   Keyword      Name  ManaValue                            scryfallId  \\\n",
       "0  ['N/A']    Plains        0.0  7ee52536-8cfa-482b-874e-094c0a081894   \n",
       "1  ['N/A']    Island        0.0  161aaceb-d0bb-48c5-8bd4-bff321a94b2e   \n",
       "2  ['N/A']     Swamp        0.0  4df49e68-cadf-4196-a3f4-ae38579edaeb   \n",
       "3  ['N/A']  Mountain        0.0  890037ae-c366-4769-b7f7-7185a1bebca1   \n",
       "4  ['N/A']    Forest        0.0  86dae285-a59c-426c-b6cd-3683abea75a3   \n",
       "\n",
       "                                                 URL  \n",
       "0  https://c1.scryfall.com/file/scryfall-cards/la...  \n",
       "1  https://c1.scryfall.com/file/scryfall-cards/la...  \n",
       "2  https://c1.scryfall.com/file/scryfall-cards/la...  \n",
       "3  https://c1.scryfall.com/file/scryfall-cards/la...  \n",
       "4  https://c1.scryfall.com/file/scryfall-cards/la...  "
      ]
     },
     "execution_count": 8,
     "metadata": {},
     "output_type": "execute_result"
    }
   ],
   "source": [
    "df.head()"
   ]
  },
  {
   "cell_type": "code",
   "execution_count": 9,
   "metadata": {},
   "outputs": [
    {
     "data": {
      "text/plain": [
       "23919"
      ]
     },
     "execution_count": 9,
     "metadata": {},
     "output_type": "execute_result"
    }
   ],
   "source": [
    "# We got rid of the cards for which we did not have picture urls\n",
    "len(df)"
   ]
  },
  {
   "cell_type": "code",
   "execution_count": 4,
   "metadata": {},
   "outputs": [],
   "source": [
    "# Transform the columns ['Color','Subtype','Type','Keyword'] from a string that looks like a list to an actual list ('['White']'>>[White])\n",
    "\n",
    "def col_to_list(col):\n",
    "    '''\n",
    "    Transforms all cells in a dataframe column from a string format that looks like a list to an actual list (ex: '['White']'>>[White]).\n",
    "\n",
    "            Parameters:\n",
    "                    col (str): Name of the dataframe column.\n",
    "\n",
    "    '''\n",
    "    df[col] = df[col].apply(lambda x: x.strip(\"']['\").split(\"', '\"))\n",
    "\n",
    "for col in ['Color','Subtype','Type','Keyword']:\n",
    "    col_to_list(col)"
   ]
  },
  {
   "cell_type": "code",
   "execution_count": 11,
   "metadata": {},
   "outputs": [
    {
     "data": {
      "text/html": [
       "<div>\n",
       "<style scoped>\n",
       "    .dataframe tbody tr th:only-of-type {\n",
       "        vertical-align: middle;\n",
       "    }\n",
       "\n",
       "    .dataframe tbody tr th {\n",
       "        vertical-align: top;\n",
       "    }\n",
       "\n",
       "    .dataframe thead th {\n",
       "        text-align: right;\n",
       "    }\n",
       "</style>\n",
       "<table border=\"1\" class=\"dataframe\">\n",
       "  <thead>\n",
       "    <tr style=\"text-align: right;\">\n",
       "      <th></th>\n",
       "      <th>Color</th>\n",
       "      <th>Subtype</th>\n",
       "      <th>Text</th>\n",
       "      <th>Type</th>\n",
       "      <th>Loyalty</th>\n",
       "      <th>Power</th>\n",
       "      <th>Toughness</th>\n",
       "      <th>Keyword</th>\n",
       "      <th>Name</th>\n",
       "      <th>ManaValue</th>\n",
       "      <th>scryfallId</th>\n",
       "      <th>URL</th>\n",
       "    </tr>\n",
       "  </thead>\n",
       "  <tbody>\n",
       "    <tr>\n",
       "      <th>0</th>\n",
       "      <td>[White]</td>\n",
       "      <td>[Plains]</td>\n",
       "      <td>({T}: Add {W}.)</td>\n",
       "      <td>[Land]</td>\n",
       "      <td>N/A</td>\n",
       "      <td>N/A</td>\n",
       "      <td>N/A</td>\n",
       "      <td>[N/A]</td>\n",
       "      <td>Plains</td>\n",
       "      <td>0.0</td>\n",
       "      <td>7ee52536-8cfa-482b-874e-094c0a081894</td>\n",
       "      <td>https://c1.scryfall.com/file/scryfall-cards/la...</td>\n",
       "    </tr>\n",
       "    <tr>\n",
       "      <th>1</th>\n",
       "      <td>[Blue]</td>\n",
       "      <td>[Island]</td>\n",
       "      <td>({T}: Add {U}.)</td>\n",
       "      <td>[Land]</td>\n",
       "      <td>N/A</td>\n",
       "      <td>N/A</td>\n",
       "      <td>N/A</td>\n",
       "      <td>[N/A]</td>\n",
       "      <td>Island</td>\n",
       "      <td>0.0</td>\n",
       "      <td>161aaceb-d0bb-48c5-8bd4-bff321a94b2e</td>\n",
       "      <td>https://c1.scryfall.com/file/scryfall-cards/la...</td>\n",
       "    </tr>\n",
       "    <tr>\n",
       "      <th>2</th>\n",
       "      <td>[Black]</td>\n",
       "      <td>[Swamp]</td>\n",
       "      <td>({T}: Add {B}.)</td>\n",
       "      <td>[Land]</td>\n",
       "      <td>N/A</td>\n",
       "      <td>N/A</td>\n",
       "      <td>N/A</td>\n",
       "      <td>[N/A]</td>\n",
       "      <td>Swamp</td>\n",
       "      <td>0.0</td>\n",
       "      <td>4df49e68-cadf-4196-a3f4-ae38579edaeb</td>\n",
       "      <td>https://c1.scryfall.com/file/scryfall-cards/la...</td>\n",
       "    </tr>\n",
       "    <tr>\n",
       "      <th>3</th>\n",
       "      <td>[Red]</td>\n",
       "      <td>[Mountain]</td>\n",
       "      <td>({T}: Add {R}.)</td>\n",
       "      <td>[Land]</td>\n",
       "      <td>N/A</td>\n",
       "      <td>N/A</td>\n",
       "      <td>N/A</td>\n",
       "      <td>[N/A]</td>\n",
       "      <td>Mountain</td>\n",
       "      <td>0.0</td>\n",
       "      <td>890037ae-c366-4769-b7f7-7185a1bebca1</td>\n",
       "      <td>https://c1.scryfall.com/file/scryfall-cards/la...</td>\n",
       "    </tr>\n",
       "    <tr>\n",
       "      <th>4</th>\n",
       "      <td>[Green]</td>\n",
       "      <td>[Forest]</td>\n",
       "      <td>({T}: Add {G}.)</td>\n",
       "      <td>[Land]</td>\n",
       "      <td>N/A</td>\n",
       "      <td>N/A</td>\n",
       "      <td>N/A</td>\n",
       "      <td>[N/A]</td>\n",
       "      <td>Forest</td>\n",
       "      <td>0.0</td>\n",
       "      <td>86dae285-a59c-426c-b6cd-3683abea75a3</td>\n",
       "      <td>https://c1.scryfall.com/file/scryfall-cards/la...</td>\n",
       "    </tr>\n",
       "  </tbody>\n",
       "</table>\n",
       "</div>"
      ],
      "text/plain": [
       "     Color     Subtype             Text    Type Loyalty Power Toughness  \\\n",
       "0  [White]    [Plains]  ({T}: Add {W}.)  [Land]     N/A   N/A       N/A   \n",
       "1   [Blue]    [Island]  ({T}: Add {U}.)  [Land]     N/A   N/A       N/A   \n",
       "2  [Black]     [Swamp]  ({T}: Add {B}.)  [Land]     N/A   N/A       N/A   \n",
       "3    [Red]  [Mountain]  ({T}: Add {R}.)  [Land]     N/A   N/A       N/A   \n",
       "4  [Green]    [Forest]  ({T}: Add {G}.)  [Land]     N/A   N/A       N/A   \n",
       "\n",
       "  Keyword      Name  ManaValue                            scryfallId  \\\n",
       "0   [N/A]    Plains        0.0  7ee52536-8cfa-482b-874e-094c0a081894   \n",
       "1   [N/A]    Island        0.0  161aaceb-d0bb-48c5-8bd4-bff321a94b2e   \n",
       "2   [N/A]     Swamp        0.0  4df49e68-cadf-4196-a3f4-ae38579edaeb   \n",
       "3   [N/A]  Mountain        0.0  890037ae-c366-4769-b7f7-7185a1bebca1   \n",
       "4   [N/A]    Forest        0.0  86dae285-a59c-426c-b6cd-3683abea75a3   \n",
       "\n",
       "                                                 URL  \n",
       "0  https://c1.scryfall.com/file/scryfall-cards/la...  \n",
       "1  https://c1.scryfall.com/file/scryfall-cards/la...  \n",
       "2  https://c1.scryfall.com/file/scryfall-cards/la...  \n",
       "3  https://c1.scryfall.com/file/scryfall-cards/la...  \n",
       "4  https://c1.scryfall.com/file/scryfall-cards/la...  "
      ]
     },
     "execution_count": 11,
     "metadata": {},
     "output_type": "execute_result"
    }
   ],
   "source": [
    "df.head()"
   ]
  },
  {
   "cell_type": "code",
   "execution_count": 5,
   "metadata": {},
   "outputs": [],
   "source": [
    "# Create a column with all categorial variables that aren't the column 'Text'\n",
    "\n",
    "# Add all categorial columns that are type = list\n",
    "df['Categorical']=df['Subtype']+df['Type']+df['Keyword']\n",
    "\n",
    "# Convert ['Categorical'] column from list type to string\n",
    "df['Categorical']=[' '.join(map(str, l)) for l in df['Categorical']]\n",
    "\n",
    "# Drop ['Subtype'],['Type'],['Keyword'] columns (since they are already in ['Categorical'])\n",
    "df.drop(['Subtype','Type','Keyword'],axis=1,inplace=True)\n",
    "\n",
    "# Add the rest of the categorial columns to ['Categorical'] (treat ManaValue as str/categorical because it's a discrete number)\n",
    "df['Categorical']= df['Categorical']+' '+df['Power']+' '+df['Toughness']+' '+df['Loyalty']+' '+df['ManaValue'].astype(int).astype(str) #float>int to remove .0's\n",
    "\n",
    "# Drop the columns whose data we just added to ['Categorical']\n",
    "df.drop(['Power','Toughness','Loyalty','ManaValue'],axis=1,inplace=True)"
   ]
  },
  {
   "cell_type": "code",
   "execution_count": 13,
   "metadata": {},
   "outputs": [
    {
     "data": {
      "text/html": [
       "<div>\n",
       "<style scoped>\n",
       "    .dataframe tbody tr th:only-of-type {\n",
       "        vertical-align: middle;\n",
       "    }\n",
       "\n",
       "    .dataframe tbody tr th {\n",
       "        vertical-align: top;\n",
       "    }\n",
       "\n",
       "    .dataframe thead th {\n",
       "        text-align: right;\n",
       "    }\n",
       "</style>\n",
       "<table border=\"1\" class=\"dataframe\">\n",
       "  <thead>\n",
       "    <tr style=\"text-align: right;\">\n",
       "      <th></th>\n",
       "      <th>Color</th>\n",
       "      <th>Text</th>\n",
       "      <th>Name</th>\n",
       "      <th>scryfallId</th>\n",
       "      <th>URL</th>\n",
       "      <th>Categorical</th>\n",
       "    </tr>\n",
       "  </thead>\n",
       "  <tbody>\n",
       "    <tr>\n",
       "      <th>0</th>\n",
       "      <td>[White]</td>\n",
       "      <td>({T}: Add {W}.)</td>\n",
       "      <td>Plains</td>\n",
       "      <td>7ee52536-8cfa-482b-874e-094c0a081894</td>\n",
       "      <td>https://c1.scryfall.com/file/scryfall-cards/la...</td>\n",
       "      <td>Plains Land N/A N/A N/A N/A 0</td>\n",
       "    </tr>\n",
       "    <tr>\n",
       "      <th>1</th>\n",
       "      <td>[Blue]</td>\n",
       "      <td>({T}: Add {U}.)</td>\n",
       "      <td>Island</td>\n",
       "      <td>161aaceb-d0bb-48c5-8bd4-bff321a94b2e</td>\n",
       "      <td>https://c1.scryfall.com/file/scryfall-cards/la...</td>\n",
       "      <td>Island Land N/A N/A N/A N/A 0</td>\n",
       "    </tr>\n",
       "    <tr>\n",
       "      <th>2</th>\n",
       "      <td>[Black]</td>\n",
       "      <td>({T}: Add {B}.)</td>\n",
       "      <td>Swamp</td>\n",
       "      <td>4df49e68-cadf-4196-a3f4-ae38579edaeb</td>\n",
       "      <td>https://c1.scryfall.com/file/scryfall-cards/la...</td>\n",
       "      <td>Swamp Land N/A N/A N/A N/A 0</td>\n",
       "    </tr>\n",
       "    <tr>\n",
       "      <th>3</th>\n",
       "      <td>[Red]</td>\n",
       "      <td>({T}: Add {R}.)</td>\n",
       "      <td>Mountain</td>\n",
       "      <td>890037ae-c366-4769-b7f7-7185a1bebca1</td>\n",
       "      <td>https://c1.scryfall.com/file/scryfall-cards/la...</td>\n",
       "      <td>Mountain Land N/A N/A N/A N/A 0</td>\n",
       "    </tr>\n",
       "    <tr>\n",
       "      <th>4</th>\n",
       "      <td>[Green]</td>\n",
       "      <td>({T}: Add {G}.)</td>\n",
       "      <td>Forest</td>\n",
       "      <td>86dae285-a59c-426c-b6cd-3683abea75a3</td>\n",
       "      <td>https://c1.scryfall.com/file/scryfall-cards/la...</td>\n",
       "      <td>Forest Land N/A N/A N/A N/A 0</td>\n",
       "    </tr>\n",
       "  </tbody>\n",
       "</table>\n",
       "</div>"
      ],
      "text/plain": [
       "     Color             Text      Name                            scryfallId  \\\n",
       "0  [White]  ({T}: Add {W}.)    Plains  7ee52536-8cfa-482b-874e-094c0a081894   \n",
       "1   [Blue]  ({T}: Add {U}.)    Island  161aaceb-d0bb-48c5-8bd4-bff321a94b2e   \n",
       "2  [Black]  ({T}: Add {B}.)     Swamp  4df49e68-cadf-4196-a3f4-ae38579edaeb   \n",
       "3    [Red]  ({T}: Add {R}.)  Mountain  890037ae-c366-4769-b7f7-7185a1bebca1   \n",
       "4  [Green]  ({T}: Add {G}.)    Forest  86dae285-a59c-426c-b6cd-3683abea75a3   \n",
       "\n",
       "                                                 URL  \\\n",
       "0  https://c1.scryfall.com/file/scryfall-cards/la...   \n",
       "1  https://c1.scryfall.com/file/scryfall-cards/la...   \n",
       "2  https://c1.scryfall.com/file/scryfall-cards/la...   \n",
       "3  https://c1.scryfall.com/file/scryfall-cards/la...   \n",
       "4  https://c1.scryfall.com/file/scryfall-cards/la...   \n",
       "\n",
       "                       Categorical  \n",
       "0    Plains Land N/A N/A N/A N/A 0  \n",
       "1    Island Land N/A N/A N/A N/A 0  \n",
       "2     Swamp Land N/A N/A N/A N/A 0  \n",
       "3  Mountain Land N/A N/A N/A N/A 0  \n",
       "4    Forest Land N/A N/A N/A N/A 0  "
      ]
     },
     "execution_count": 13,
     "metadata": {},
     "output_type": "execute_result"
    }
   ],
   "source": [
    "df.head()"
   ]
  },
  {
   "cell_type": "code",
   "execution_count": 6,
   "metadata": {},
   "outputs": [
    {
     "data": {
      "text/plain": [
       "1    20197\n",
       "2     3064\n",
       "3      573\n",
       "5       73\n",
       "4       12\n",
       "Name: color_sum, dtype: int64"
      ]
     },
     "execution_count": 6,
     "metadata": {},
     "output_type": "execute_result"
    }
   ],
   "source": [
    "# Now let's look at our sample size for each color combination\n",
    "\n",
    "df['color_sum'] = df['Color'].str.len()\n",
    "df['color_sum'].value_counts()"
   ]
  },
  {
   "cell_type": "code",
   "execution_count": 7,
   "metadata": {},
   "outputs": [],
   "source": [
    "# The sample size is very disproportionate: there are a lot more cards with a single color, that with 2+ colors. \n",
    "# Therefore, the best practice is to drop all multi-colored cards\n",
    "df = df[df['color_sum']==1] \n",
    "\n",
    "# We don't need the color_sum column anymore\n",
    "df.drop('color_sum',axis=1,inplace=True)"
   ]
  },
  {
   "cell_type": "code",
   "execution_count": 16,
   "metadata": {},
   "outputs": [
    {
     "data": {
      "text/plain": [
       "20197"
      ]
     },
     "execution_count": 16,
     "metadata": {},
     "output_type": "execute_result"
    }
   ],
   "source": [
    "# We have 20197 unique cards w/ a single color\n",
    "len(df)"
   ]
  },
  {
   "cell_type": "code",
   "execution_count": 17,
   "metadata": {},
   "outputs": [
    {
     "data": {
      "text/plain": [
       "array(['White', 'Blue', 'Black', 'Red', 'Green', 'Colorless'],\n",
       "      dtype=object)"
      ]
     },
     "execution_count": 17,
     "metadata": {},
     "output_type": "execute_result"
    }
   ],
   "source": [
    "# Since now we only have 1 color per card, it doesn't make sense for column ['Color'] to be of list type anymore\n",
    "df['Color'].explode().unique()"
   ]
  },
  {
   "cell_type": "code",
   "execution_count": 8,
   "metadata": {},
   "outputs": [],
   "source": [
    "# Let's convert it back to string:\n",
    "df['Color'] = ['|'.join(map(str, l)) for l in df['Color']]"
   ]
  },
  {
   "cell_type": "code",
   "execution_count": 19,
   "metadata": {},
   "outputs": [
    {
     "data": {
      "text/plain": [
       "array(['White', 'Blue', 'Black', 'Red', 'Green', 'Colorless'],\n",
       "      dtype=object)"
      ]
     },
     "execution_count": 19,
     "metadata": {},
     "output_type": "execute_result"
    }
   ],
   "source": [
    "df['Color'].unique()"
   ]
  },
  {
   "cell_type": "code",
   "execution_count": 9,
   "metadata": {},
   "outputs": [],
   "source": [
    "# We won't be needing scryfallId\n",
    "df.drop(['scryfallId'],axis=1,inplace=True)"
   ]
  },
  {
   "cell_type": "code",
   "execution_count": 21,
   "metadata": {},
   "outputs": [
    {
     "data": {
      "text/html": [
       "<div>\n",
       "<style scoped>\n",
       "    .dataframe tbody tr th:only-of-type {\n",
       "        vertical-align: middle;\n",
       "    }\n",
       "\n",
       "    .dataframe tbody tr th {\n",
       "        vertical-align: top;\n",
       "    }\n",
       "\n",
       "    .dataframe thead th {\n",
       "        text-align: right;\n",
       "    }\n",
       "</style>\n",
       "<table border=\"1\" class=\"dataframe\">\n",
       "  <thead>\n",
       "    <tr style=\"text-align: right;\">\n",
       "      <th></th>\n",
       "      <th>Color</th>\n",
       "      <th>Text</th>\n",
       "      <th>Name</th>\n",
       "      <th>URL</th>\n",
       "      <th>Categorical</th>\n",
       "    </tr>\n",
       "  </thead>\n",
       "  <tbody>\n",
       "    <tr>\n",
       "      <th>0</th>\n",
       "      <td>White</td>\n",
       "      <td>({T}: Add {W}.)</td>\n",
       "      <td>Plains</td>\n",
       "      <td>https://c1.scryfall.com/file/scryfall-cards/la...</td>\n",
       "      <td>Plains Land N/A N/A N/A N/A 0</td>\n",
       "    </tr>\n",
       "    <tr>\n",
       "      <th>1</th>\n",
       "      <td>Blue</td>\n",
       "      <td>({T}: Add {U}.)</td>\n",
       "      <td>Island</td>\n",
       "      <td>https://c1.scryfall.com/file/scryfall-cards/la...</td>\n",
       "      <td>Island Land N/A N/A N/A N/A 0</td>\n",
       "    </tr>\n",
       "    <tr>\n",
       "      <th>2</th>\n",
       "      <td>Black</td>\n",
       "      <td>({T}: Add {B}.)</td>\n",
       "      <td>Swamp</td>\n",
       "      <td>https://c1.scryfall.com/file/scryfall-cards/la...</td>\n",
       "      <td>Swamp Land N/A N/A N/A N/A 0</td>\n",
       "    </tr>\n",
       "    <tr>\n",
       "      <th>3</th>\n",
       "      <td>Red</td>\n",
       "      <td>({T}: Add {R}.)</td>\n",
       "      <td>Mountain</td>\n",
       "      <td>https://c1.scryfall.com/file/scryfall-cards/la...</td>\n",
       "      <td>Mountain Land N/A N/A N/A N/A 0</td>\n",
       "    </tr>\n",
       "    <tr>\n",
       "      <th>4</th>\n",
       "      <td>Green</td>\n",
       "      <td>({T}: Add {G}.)</td>\n",
       "      <td>Forest</td>\n",
       "      <td>https://c1.scryfall.com/file/scryfall-cards/la...</td>\n",
       "      <td>Forest Land N/A N/A N/A N/A 0</td>\n",
       "    </tr>\n",
       "  </tbody>\n",
       "</table>\n",
       "</div>"
      ],
      "text/plain": [
       "   Color             Text      Name  \\\n",
       "0  White  ({T}: Add {W}.)    Plains   \n",
       "1   Blue  ({T}: Add {U}.)    Island   \n",
       "2  Black  ({T}: Add {B}.)     Swamp   \n",
       "3    Red  ({T}: Add {R}.)  Mountain   \n",
       "4  Green  ({T}: Add {G}.)    Forest   \n",
       "\n",
       "                                                 URL  \\\n",
       "0  https://c1.scryfall.com/file/scryfall-cards/la...   \n",
       "1  https://c1.scryfall.com/file/scryfall-cards/la...   \n",
       "2  https://c1.scryfall.com/file/scryfall-cards/la...   \n",
       "3  https://c1.scryfall.com/file/scryfall-cards/la...   \n",
       "4  https://c1.scryfall.com/file/scryfall-cards/la...   \n",
       "\n",
       "                       Categorical  \n",
       "0    Plains Land N/A N/A N/A N/A 0  \n",
       "1    Island Land N/A N/A N/A N/A 0  \n",
       "2     Swamp Land N/A N/A N/A N/A 0  \n",
       "3  Mountain Land N/A N/A N/A N/A 0  \n",
       "4    Forest Land N/A N/A N/A N/A 0  "
      ]
     },
     "execution_count": 21,
     "metadata": {},
     "output_type": "execute_result"
    }
   ],
   "source": [
    "df.head()"
   ]
  },
  {
   "cell_type": "code",
   "execution_count": 10,
   "metadata": {},
   "outputs": [],
   "source": [
    "def removeChars(txt):\n",
    "    '''\n",
    "    Removes unwanted characters from a string.\n",
    "\n",
    "            Parameters:\n",
    "                    txt (srt): String from which we want to remove characters.\n",
    "\n",
    "            Returns:\n",
    "                    cleantxt (str): Clean string (after character removal).\n",
    "    '''\n",
    "    cleantxt = re.sub(r'\\{.*\\}', \"\", txt) # Remove all symbols ({X}) from the card text\n",
    "    cleantxt = re.sub('[{}?|!|\\'|\"|#().\\n:,;]', \"\",cleantxt) # Remove unwanted special characters\n",
    "    return cleantxt"
   ]
  },
  {
   "cell_type": "code",
   "execution_count": 11,
   "metadata": {},
   "outputs": [],
   "source": [
    "def removeStopWords(txt):\n",
    "    '''\n",
    "    Removes unwanted stop words from a string.\n",
    "\n",
    "            Parameters:\n",
    "                    txt (srt): String from which we want to remove stop words.\n",
    "\n",
    "            Returns:\n",
    "                    cleantxt (str): Clean string (after stop word removal).\n",
    "    '''\n",
    "    stop_words = set(stopwords.words('english'))\n",
    "    stop_words.update(['N/A','may','also','across','among','beside','however','yet','within','None'])\n",
    "    re_stop_words = re.compile(r\"\\b(\" + \"|\".join(stop_words) + \")\\\\W\", re.I)\n",
    "    cleantxt = re_stop_words.sub(\"\", txt)\n",
    "    return cleantxt"
   ]
  },
  {
   "cell_type": "code",
   "execution_count": 12,
   "metadata": {},
   "outputs": [],
   "source": [
    "#Clean txt \n",
    "def txt_clean(df,old_col,new_col):\n",
    "    df[new_col] = df[old_col].str.lower()\n",
    "    df[new_col] = df[new_col].apply(removeStopWords)\n",
    "    df[new_col] = df[new_col].apply(removeChars)"
   ]
  },
  {
   "cell_type": "code",
   "execution_count": 13,
   "metadata": {},
   "outputs": [],
   "source": [
    "#Clean columns: Text, Name, Categorical\n",
    "txt_clean(df,'Name','name')\n",
    "txt_clean(df,'Text','text')\n",
    "txt_clean(df,'Categorical','categorical')"
   ]
  },
  {
   "cell_type": "code",
   "execution_count": 14,
   "metadata": {},
   "outputs": [
    {
     "data": {
      "text/plain": [
       "'{T}: Add {U}.\\n{T}: Target creature loses banding and all \"bands with other\" abilities until end of turn. Activate only during any upkeep step.'"
      ]
     },
     "execution_count": 14,
     "metadata": {},
     "output_type": "execute_result"
    }
   ],
   "source": [
    "df['Text'][23917]"
   ]
  },
  {
   "cell_type": "code",
   "execution_count": 15,
   "metadata": {},
   "outputs": [
    {
     "data": {
      "text/plain": [
       "' target creature loses banding bands  abilities end turn activate upkeep step'"
      ]
     },
     "execution_count": 15,
     "metadata": {},
     "output_type": "execute_result"
    }
   ],
   "source": [
    "df['text'][23917]"
   ]
  },
  {
   "cell_type": "code",
   "execution_count": 16,
   "metadata": {},
   "outputs": [],
   "source": [
    "# Drop the columns we dont need anymore\n",
    "df.drop(['Categorical','Text'],axis=1,inplace=True)"
   ]
  },
  {
   "cell_type": "code",
   "execution_count": 29,
   "metadata": {},
   "outputs": [
    {
     "data": {
      "text/html": [
       "<div>\n",
       "<style scoped>\n",
       "    .dataframe tbody tr th:only-of-type {\n",
       "        vertical-align: middle;\n",
       "    }\n",
       "\n",
       "    .dataframe tbody tr th {\n",
       "        vertical-align: top;\n",
       "    }\n",
       "\n",
       "    .dataframe thead th {\n",
       "        text-align: right;\n",
       "    }\n",
       "</style>\n",
       "<table border=\"1\" class=\"dataframe\">\n",
       "  <thead>\n",
       "    <tr style=\"text-align: right;\">\n",
       "      <th></th>\n",
       "      <th>Color</th>\n",
       "      <th>Name</th>\n",
       "      <th>URL</th>\n",
       "      <th>name</th>\n",
       "      <th>text</th>\n",
       "      <th>categorical</th>\n",
       "    </tr>\n",
       "  </thead>\n",
       "  <tbody>\n",
       "    <tr>\n",
       "      <th>0</th>\n",
       "      <td>White</td>\n",
       "      <td>Plains</td>\n",
       "      <td>https://c1.scryfall.com/file/scryfall-cards/la...</td>\n",
       "      <td>plains</td>\n",
       "      <td></td>\n",
       "      <td>plains land 0</td>\n",
       "    </tr>\n",
       "    <tr>\n",
       "      <th>1</th>\n",
       "      <td>Blue</td>\n",
       "      <td>Island</td>\n",
       "      <td>https://c1.scryfall.com/file/scryfall-cards/la...</td>\n",
       "      <td>island</td>\n",
       "      <td></td>\n",
       "      <td>island land 0</td>\n",
       "    </tr>\n",
       "    <tr>\n",
       "      <th>2</th>\n",
       "      <td>Black</td>\n",
       "      <td>Swamp</td>\n",
       "      <td>https://c1.scryfall.com/file/scryfall-cards/la...</td>\n",
       "      <td>swamp</td>\n",
       "      <td></td>\n",
       "      <td>swamp land 0</td>\n",
       "    </tr>\n",
       "    <tr>\n",
       "      <th>3</th>\n",
       "      <td>Red</td>\n",
       "      <td>Mountain</td>\n",
       "      <td>https://c1.scryfall.com/file/scryfall-cards/la...</td>\n",
       "      <td>mountain</td>\n",
       "      <td></td>\n",
       "      <td>mountain land 0</td>\n",
       "    </tr>\n",
       "    <tr>\n",
       "      <th>4</th>\n",
       "      <td>Green</td>\n",
       "      <td>Forest</td>\n",
       "      <td>https://c1.scryfall.com/file/scryfall-cards/la...</td>\n",
       "      <td>forest</td>\n",
       "      <td></td>\n",
       "      <td>forest land 0</td>\n",
       "    </tr>\n",
       "  </tbody>\n",
       "</table>\n",
       "</div>"
      ],
      "text/plain": [
       "   Color      Name                                                URL  \\\n",
       "0  White    Plains  https://c1.scryfall.com/file/scryfall-cards/la...   \n",
       "1   Blue    Island  https://c1.scryfall.com/file/scryfall-cards/la...   \n",
       "2  Black     Swamp  https://c1.scryfall.com/file/scryfall-cards/la...   \n",
       "3    Red  Mountain  https://c1.scryfall.com/file/scryfall-cards/la...   \n",
       "4  Green    Forest  https://c1.scryfall.com/file/scryfall-cards/la...   \n",
       "\n",
       "       name text      categorical  \n",
       "0    plains         plains land 0  \n",
       "1    island         island land 0  \n",
       "2     swamp          swamp land 0  \n",
       "3  mountain       mountain land 0  \n",
       "4    forest         forest land 0  "
      ]
     },
     "execution_count": 29,
     "metadata": {},
     "output_type": "execute_result"
    }
   ],
   "source": [
    "df.head()"
   ]
  },
  {
   "cell_type": "code",
   "execution_count": 31,
   "metadata": {},
   "outputs": [],
   "source": [
    "# Save ml-ready text data \n",
    "df.to_csv(\"DataReady.csv\",\"|\",index=False)"
   ]
  },
  {
   "cell_type": "markdown",
   "metadata": {},
   "source": [
    "Preparing the image data"
   ]
  },
  {
   "cell_type": "code",
   "execution_count": 38,
   "metadata": {},
   "outputs": [],
   "source": [
    "def get_pixel_data(df,col_url,col_pk):\n",
    "    '''\n",
    "    From the col_url column in df, open every URL as an image, crop and resize it, then convert it to a numpy array and append this data to a dictionary.\n",
    "    In the end, save the dictionary as a .pkl file.\n",
    "\n",
    "            Parameters:\n",
    "                    df (pandas dataframe): Dataframe with card name and image url data.\n",
    "                    col_url (srt): Name of the url column in dataframe df.\n",
    "                    col_pk (srt): Name of the primary key column of dataframe df.\n",
    "\n",
    "    '''\n",
    "    dict_all = dict()\n",
    "    dict_all[col_pk] = []\n",
    "    dict_all['ImageDataCrop'] = []\n",
    "\n",
    "    for idx, url in enumerate(df['URL']):\n",
    "        dict_card = dict()\n",
    "      \n",
    "        img = Image.open(requests.get(url, stream=True).raw)\n",
    "        img_crop = img.crop((41, 90, 628, 535))\n",
    "        img_crop = img_crop.resize((150, 150))\n",
    "        pix = np.array(img)\n",
    "        pix_crop = np.array(img_crop)\n",
    "\n",
    "        dict_all[col_pk].append(df[col_pk][idx])\n",
    "        dict_all['ImageDataCrop'].append(pix_crop)\n",
    "    \n",
    "    joblib.dump(dict_all, 'ImageDataCrop.pkl')\n",
    "\n",
    "# Call the function: this will take aprox 130min to run and creates a 1.27GB file\n",
    "get_pixel_data(df,'URL','Name')"
   ]
  }
 ],
 "metadata": {
  "kernelspec": {
   "display_name": "Python 3.9.13 64-bit (windows store)",
   "language": "python",
   "name": "python3"
  },
  "language_info": {
   "codemirror_mode": {
    "name": "ipython",
    "version": 3
   },
   "file_extension": ".py",
   "mimetype": "text/x-python",
   "name": "python",
   "nbconvert_exporter": "python",
   "pygments_lexer": "ipython3",
   "version": "3.9.13"
  },
  "orig_nbformat": 4,
  "vscode": {
   "interpreter": {
    "hash": "dac296cf3b13fd078b884de0effe823cd6ceae74de1fce8821ec64b5417e102f"
   }
  }
 },
 "nbformat": 4,
 "nbformat_minor": 2
}
